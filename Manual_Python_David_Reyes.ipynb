{
 "cells": [
  {
   "cell_type": "markdown",
   "metadata": {},
   "source": [
    "# Comenzando con PYTHON 3\n",
    "\n",
    "___"
   ]
  },
  {
   "cell_type": "markdown",
   "metadata": {},
   "source": [
    "**Python** es un lenguaje de programación interpretado de tipado dinámico(pueden tomar valores de distinto tipo a lo largo del código) cuya filosofía hace hincapié en una sintaxis que favorezca un código legible. Se trata de un lenguaje de programación multiparadigma y disponible en varias plataformas.\n",
    "\n",
    "Dicho de otro modo, Python es:\n",
    "\n",
    "- **Interpretado:** Se ejecuta sin necesidad de ser procesado por el compilador y se detectan los errores en tiempo de ejecución.\n",
    "- **Multiparadigma:** Soporta programación funcional, programación imperativa y programación orientada a objetos.\n",
    "- **Tipado dinámico:** Las variables se comprueban en tiempo de ejecución.\n",
    "- **Multiplataforma:** disponible para plataformas de Windows, Linux o MAC.\n",
    "- **Gratuito:** No dispone de licencia para programar."
   ]
  },
  {
   "cell_type": "markdown",
   "metadata": {},
   "source": [
    "### En Python los espacios al principio de la linea son importantes, se conoce como \"identación\"."
   ]
  },
  {
   "cell_type": "markdown",
   "metadata": {},
   "source": [
    "## Función Print\n",
    "\n",
    "- Con **print** puede imprimir varias cosas.\n",
    "- El simobolo **+** sirve para concatenar dos o más objetos de tipo strings.\n",
    "- El método **str()**, que devuelve una representación de tipo string del objeto que se le pasa como parámetro."
   ]
  },
  {
   "cell_type": "code",
   "execution_count": 2,
   "metadata": {},
   "outputs": [
    {
     "name": "stdout",
     "output_type": "stream",
     "text": [
      "Esto es una cadena de texto: Bienvenido David\n",
      "Una variable numerica: 4567\n"
     ]
    }
   ],
   "source": [
    "print(\"Esto es una cadena de texto: \" + \"Bienvenido David\")\n",
    "print(\"Una variable numerica: \" + str(\"4567\"))"
   ]
  },
  {
   "cell_type": "markdown",
   "metadata": {},
   "source": [
    "## Variables y Tipos\n",
    "\n",
    "- **Numbers**"
   ]
  },
  {
   "cell_type": "code",
   "execution_count": 4,
   "metadata": {},
   "outputs": [
    {
     "name": "stdout",
     "output_type": "stream",
     "text": [
      "Número entero: 5823\n",
      "Número decimal: 3.8746\n"
     ]
    }
   ],
   "source": [
    "my_int = 5823\n",
    "my_float = 3.8746\n",
    "\n",
    "print(\"Número entero: \" + str(my_int))\n",
    "print(\"Número decimal:\", my_float)"
   ]
  },
  {
   "cell_type": "markdown",
   "metadata": {},
   "source": [
    "- **Strings** (Cadena de caracteres)"
   ]
  },
  {
   "cell_type": "code",
   "execution_count": 22,
   "metadata": {
    "scrolled": true
   },
   "outputs": [
    {
     "name": "stdout",
     "output_type": "stream",
     "text": [
      "Esto es una cadena de caracteres o string\n",
      "Cadena de caracteres sin doble \"\"\n"
     ]
    }
   ],
   "source": [
    "my_string = \"Esto es una cadena de caracteres o string\"\n",
    "my_string2 = 'Cadena de caracteres sin doble \"\"'\n",
    "print(my_string)\n",
    "print(my_string2)"
   ]
  },
  {
   "cell_type": "markdown",
   "metadata": {},
   "source": [
    "- Es un lenguaje **Case sensitive** (sensible a mayúsculas y minúsculas)"
   ]
  },
  {
   "cell_type": "code",
   "execution_count": 19,
   "metadata": {},
   "outputs": [
    {
     "name": "stdout",
     "output_type": "stream",
     "text": [
      "Wolverine\n",
      "Hulk\n"
     ]
    }
   ],
   "source": [
    "heroe = \"Wolverine\"\n",
    "Heroe = \"Hulk\"\n",
    "\n",
    "print(heroe)\n",
    "print(Heroe)"
   ]
  },
  {
   "cell_type": "markdown",
   "metadata": {},
   "source": [
    "- **Constantes** (Se declaran en letras mayúsculas)"
   ]
  },
  {
   "cell_type": "code",
   "execution_count": 23,
   "metadata": {},
   "outputs": [
    {
     "name": "stdout",
     "output_type": "stream",
     "text": [
      "2020\n",
      "Veinte veinte\n"
     ]
    }
   ],
   "source": [
    "VALOR_CONSTANTE = 2020\n",
    "VALOR_CONSTANTE2 = 'Veinte veinte'\n",
    "print(VALOR_CONSTANTE)\n",
    "print(VALOR_CONSTANTE2)"
   ]
  },
  {
   "cell_type": "markdown",
   "metadata": {},
   "source": [
    "- Podemos saber el tipo asociado a una variable concreta con la función **Type**"
   ]
  },
  {
   "cell_type": "code",
   "execution_count": 26,
   "metadata": {},
   "outputs": [
    {
     "name": "stdout",
     "output_type": "stream",
     "text": [
      "<class 'str'>\n",
      "<class 'int'>\n",
      "<class 'float'>\n"
     ]
    }
   ],
   "source": [
    "print(type(heroe))\n",
    "print(type(my_int))\n",
    "print(type(my_float))"
   ]
  },
  {
   "cell_type": "markdown",
   "metadata": {},
   "source": [
    "- Hay funciones que nos permiten realizar **conversión de tipos**, como por ejemplo: \n",
    "\n",
    "**str** (de número a cadena de texto) \n",
    "\n",
    "**int** (a entero) \n",
    "\n",
    "**float** (a número real)"
   ]
  },
  {
   "cell_type": "code",
   "execution_count": 47,
   "metadata": {},
   "outputs": [
    {
     "name": "stdout",
     "output_type": "stream",
     "text": [
      "El valor de la \"variable1\" se convertirá en una cadena de texto: 3.55 <class 'str'>\n",
      "El valor de la \"variable1\" se convertirá en un número entero: 3 <class 'int'>\n",
      "El valor de la \"variable2\" se convertirá en un número real: 555.0 <class 'float'>\n"
     ]
    }
   ],
   "source": [
    "variable1 = 3.55\n",
    "variable2 = 555\n",
    "print('El valor de la \"variable1\" se convertirá en una cadena de texto:', str(variable1), type(str(variable1)))\n",
    "print('El valor de la \"variable1\" se convertirá en un número entero:', int(variable1), type(int(variable1)))\n",
    "print('El valor de la \"variable2\" se convertirá en un número real:', float(variable2), type(float(variable2)))"
   ]
  },
  {
   "cell_type": "markdown",
   "metadata": {},
   "source": [
    "## Tipos de datos complejos ( tuplas, listas y conjuntos)\n",
    "\n",
    "\n",
    "Acceso a elementos de una cadena mediante la posición"
   ]
  },
  {
   "cell_type": "code",
   "execution_count": 28,
   "metadata": {},
   "outputs": [
    {
     "name": "stdout",
     "output_type": "stream",
     "text": [
      "Toma el caracter que ocupa la décima posición, tomando en cuenta que el índice empieza en 0: s\n",
      "Rango de valores de 15 a 27: curso de PYT\n",
      "Toma todos los caracteres hasta el 14: Bienvenidos al\n",
      "Toma todos los caracteres desde el 24: PYTHON 3\n",
      "Longitud: 32\n"
     ]
    }
   ],
   "source": [
    "cadena = \"Bienvenidos al curso de PYTHON 3\"\n",
    "print(\"Toma el caracter que ocupa la décima posición, tomando en cuenta que el índice empieza en 0:\", cadena[10])\n",
    "print(\"Rango de valores de 15 a 27:\", cadena[15:27])\n",
    "print(\"Toma todos los caracteres hasta el 14:\", cadena[:14])\n",
    "print(\"Toma todos los caracteres desde el 24:\", cadena[24:])\n",
    "print(\"Longitud:\", len(cadena))"
   ]
  },
  {
   "cell_type": "markdown",
   "metadata": {},
   "source": [
    "- Los **conjuntos** son colecciones no ordenadas y sin elementos repetidos."
   ]
  },
  {
   "cell_type": "code",
   "execution_count": 116,
   "metadata": {},
   "outputs": [
    {
     "name": "stdout",
     "output_type": "stream",
     "text": [
      "{'Capitan America', 'Iron Man', 'Ant Man', 'Wolverine', 'Spiderman'}\n",
      "<class 'set'>\n",
      "Elimina el primer elemento y devuleve el valor de dicho elemento: Capitan America\n",
      "{'Iron Man', 'Ant Man', 'Wolverine', 'Spiderman'}\n",
      "{'Iron Man', 'Batman', 'Ant Man', 'Wolverine', 'Spiderman'}\n",
      "{'Iron Man', 'Batman', 'Ant Man', 'Wolverine', 'Spiderman'}\n"
     ]
    }
   ],
   "source": [
    "heroes = {'Capitan America', 'Iron Man', 'Ant Man', 'Wolverine', 'Spiderman'}\n",
    "print(heroes)\n",
    "print(type(heroes))\n",
    "print(\"Elimina el primer elemento y devuleve el valor de dicho elemento:\", heroes.pop())\n",
    "print(heroes)\n",
    "heroes.add('Batman')           #añade un elemento al conjunto.\n",
    "print(heroes)\n",
    "heroes.add('Wolverine')        #no agrega un elemento al conjunto si ya está presente en él.\n",
    "print(heroes)"
   ]
  },
  {
   "cell_type": "markdown",
   "metadata": {},
   "source": [
    "- Las **listas** son una de las estructuras más frecuente en Python, permite acumular y\n",
    "manipular datos de forma sencilla"
   ]
  },
  {
   "cell_type": "code",
   "execution_count": 76,
   "metadata": {},
   "outputs": [
    {
     "name": "stdout",
     "output_type": "stream",
     "text": [
      "<class 'list'>\n",
      "{'Ferrari', 'Audi', 'Porsche', 'Hummer', ' Lamborghini'} <class 'set'>\n",
      "False\n",
      "True\n",
      "['Audi', 'Ferrari', 'Hummer', ' Lamborghini', 'Porsche', 'Great Wall']\n",
      "2\n"
     ]
    }
   ],
   "source": [
    "marcas = ['Audi', 'Ferrari', 'Hummer', ' Lamborghini', 'Porsche']\n",
    "print(type(marcas))\n",
    "autos_lujosos = set(marcas)                   # asigna una variable a la lista\n",
    "print(autos_lujosos, type(autos_lujosos))\n",
    "marcas_chinas = 'Chevrolet' in autos_lujosos  # es un condicional, devuelve un valor de true or false si el elemento se encuentra en la variable\n",
    "print(marcas_chinas)\n",
    "marcas_italianas = 'Ferrari' in autos_lujosos\n",
    "print(marcas_italianas)\n",
    "marcas.insert(len(marcas), 'Great Wall')      # inserta un elemento al final de la lista \n",
    "print(marcas)\n",
    "print(marcas.index('Hummer'))                 # indica la posición que tiene el elemento dentro de la lista\n"
   ]
  },
  {
   "cell_type": "markdown",
   "metadata": {},
   "source": [
    "-  Una **tupla** es una lista inmutable."
   ]
  },
  {
   "cell_type": "code",
   "execution_count": 87,
   "metadata": {},
   "outputs": [
    {
     "name": "stdout",
     "output_type": "stream",
     "text": [
      "['a', 'b', 'c', 'd', 'm']\n",
      "['a', 'b', 'c', 'd', 'e']\n",
      "{'e', 'a', 'o', 'i'}\n"
     ]
    },
    {
     "ename": "TypeError",
     "evalue": "'set' object does not support item assignment",
     "output_type": "error",
     "traceback": [
      "\u001b[1;31m---------------------------------------------------------------------------\u001b[0m",
      "\u001b[1;31mTypeError\u001b[0m                                 Traceback (most recent call last)",
      "\u001b[1;32m<ipython-input-87-f858275790cf>\u001b[0m in \u001b[0;36m<module>\u001b[1;34m\u001b[0m\n\u001b[0;32m      6\u001b[0m \u001b[0mvocales\u001b[0m \u001b[1;33m=\u001b[0m \u001b[1;33m{\u001b[0m\u001b[1;34m'a'\u001b[0m\u001b[1;33m,\u001b[0m \u001b[1;34m'e'\u001b[0m\u001b[1;33m,\u001b[0m \u001b[1;34m'i'\u001b[0m\u001b[1;33m,\u001b[0m \u001b[1;34m'o'\u001b[0m\u001b[1;33m}\u001b[0m\u001b[1;33m\u001b[0m\u001b[1;33m\u001b[0m\u001b[0m\n\u001b[0;32m      7\u001b[0m \u001b[0mprint\u001b[0m\u001b[1;33m(\u001b[0m\u001b[0mvocales\u001b[0m\u001b[1;33m)\u001b[0m\u001b[1;33m\u001b[0m\u001b[1;33m\u001b[0m\u001b[0m\n\u001b[1;32m----> 8\u001b[1;33m \u001b[0mvocales\u001b[0m\u001b[1;33m[\u001b[0m\u001b[1;36m2\u001b[0m\u001b[1;33m]\u001b[0m \u001b[1;33m=\u001b[0m \u001b[1;34m'u'\u001b[0m                 \u001b[1;31m# Es una tupla ya que NO me permitio modificar ese elemento\u001b[0m\u001b[1;33m\u001b[0m\u001b[1;33m\u001b[0m\u001b[0m\n\u001b[0m",
      "\u001b[1;31mTypeError\u001b[0m: 'set' object does not support item assignment"
     ]
    }
   ],
   "source": [
    "abecedario = ['a', 'b', 'c', 'd', 'm']\n",
    "print(abecedario)\n",
    "abecedario[4]='e'                # NO es una tupla ya que me permitio realizar la modificación de un elemento de la lista\n",
    "print(abecedario)\n",
    "\n",
    "vocales = {'a', 'e', 'i', 'o'}\n",
    "print(vocales)\n",
    "vocales[2] = 'u'                 # Es una tupla ya que NO me permitio modificar el elemento"
   ]
  },
  {
   "cell_type": "markdown",
   "metadata": {},
   "source": [
    "- **Un diccionario** nos permite almacenar cualquier tipo de valor como enteros, cadenas, listas e incluso otras funciones, permite identificar a sus elementos a través de una clave (Key)."
   ]
  },
  {
   "cell_type": "code",
   "execution_count": 114,
   "metadata": {},
   "outputs": [
    {
     "name": "stdout",
     "output_type": "stream",
     "text": [
      "{'nombre': 'David', 'edad': 30, 'cursos': ['JS', 'PHP', 'ANGULAR', 'CSS']}\n",
      "Accedemos al nombre y la edad: David 30\n",
      "Accedemos a los cusos: ['JS', 'PHP', 'ANGULAR', 'CSS']\n",
      "Para acceder a cada uno de los cursos usamos los índices: ANGULAR\n",
      "nombre : David\n",
      "edad : 30\n",
      "cursos : ['JS', 'PHP', 'ANGULAR', 'CSS']\n"
     ]
    }
   ],
   "source": [
    "diccionario = {'nombre': 'David', 'edad': 30, 'cursos': ['JS', 'PHP', 'ANGULAR', 'CSS']}\n",
    "print(diccionario)\n",
    "print(\"Accedemos al nombre y la edad:\", diccionario['nombre'], diccionario['edad'])\n",
    "print(\"Accedemos a los cusos:\", diccionario['cursos'])\n",
    "print(\"Para acceder a cada uno de los cursos usamos los índices:\", diccionario['cursos'][2])\n",
    "\n",
    "for key in diccionario:                      # Para recorrer todo el Diccionario, podemos hacer uso de la estructura for.\n",
    "    print(key, \":\", diccionario[key])\n",
    "    "
   ]
  },
  {
   "cell_type": "markdown",
   "metadata": {},
   "source": [
    "- **Métodos de los diccionarios**"
   ]
  },
  {
   "cell_type": "code",
   "execution_count": 29,
   "metadata": {
    "scrolled": true
   },
   "outputs": [
    {
     "name": "stdout",
     "output_type": "stream",
     "text": [
      "{'nombre': 'David', 'apellido': 'Reyes', 'edad': 30}\n",
      "{'a': 1, 'b': 2, 'c': 3, 'd': 4}\n",
      "dict_keys(['a', 'b', 'c', 'd'])\n",
      "dict_values([1, 2, 3, 4])\n",
      "4\n",
      "3\n",
      "{'a': 1, 'b': 2, 'd': 4}\n",
      "1\n",
      "{'a': 1, 'b': 2, 'd': 4, 'e': 5}\n",
      "{}\n",
      "{'i', 'e', 'a', 'o'}\n",
      "{'a': 1, 'b': 1, 'c': 1, 'd': 1}\n",
      "{'a': 1, 'b': 5, 'c': 6, 'd': 4, 'e': 9, 'f': 10}\n"
     ]
    }
   ],
   "source": [
    "ejemplo = dict(nombre='David', apellido='Reyes', edad=30)   # dict() Recibe como parámetro una representación de un diccionario y si es factible, devuelve un diccionario de datos.\n",
    "print(ejemplo)\n",
    "\n",
    "ejemplo2 = dict(zip('abcd',[1,2,3,4]))                      # zip() Recibe como parámetro dos elementos iterables, ya sea una cadena, una lista o una tupla. Ambos parámetros deben tener el mismo número de elementos. Se devolverá un diccionario relacionando el elemento i-esimo de cada uno de los iterables.\n",
    "print(ejemplo2)\n",
    "\n",
    "ejemplo3 = {'a':1, 'b':2, 'c':3, 'd':4}            \n",
    "keys = ejemplo3.keys()                                       # keys() Retorna una lista de elementos, los cuales serán las claves de nuestro diccionario.\n",
    "print(keys)\n",
    "values = ejemplo3.values()                                   # values() Retorna una lista de elementos, que serán los valores de nuestro diccionario.\n",
    "print(values)\n",
    "valor = ejemplo3.get('d')                                    # get() Recibe como parámetro una clave, devuelve el valor de la clave. Si no lo encuentra, devuelve un objeto none.\n",
    "print(valor)\n",
    "valor2 = ejemplo3.pop('c')                                   # pop() Recibe como parámetro una clave, elimina esta y devuelve su valor. Si no lo encuentra, devuelve error.\n",
    "print(valor2)\n",
    "print(ejemplo3)\n",
    "valor3 = ejemplo3.setdefault('a')                            # setdefault() Funciona de dos formas. En la primera como get\n",
    "print(valor3)\n",
    "valor4 = ejemplo3.setdefault('e',5)                          # Y en la segunda forma, nos sirve para agregar un nuevo elemento a nuestro diccionario.\n",
    "print(ejemplo3)\n",
    "ejemplo3.clear()                                             # clear() Elimina todos los ítems del diccionario dejándolo vacío.\n",
    "print(ejemplo3)\n",
    "\n",
    "abecedario = {'a', 'e', 'i', 'o'}\n",
    "vocales = abecedario.copy()                                  # copy() Retorna una copia del diccionario original. \n",
    "print(vocales)\n",
    "\n",
    "ejemplo5 = dict.fromkeys(['a','b','c','d'],1)                # fromkeys() Recibe como parámetros un iterable y un valor, devolviendo un diccionario que contiene como claves los elementos del iterable con el mismo valor ingresado. Si el valor no es ingresado, devolverá none para todas las claves.\n",
    "print(ejemplo5)\n",
    "\n",
    "ejemplo6 = {'a':1, 'b':2, 'c':3, 'd':4}\n",
    "ejemplo7 = {'c':6, 'b':5, 'e':9, 'f':10}\n",
    "ejemplo6.update(ejemplo7)                                    # update() Recibe como parámetro otro diccionario. Si se tienen claves iguales, actualiza el valor de la clave repetida; si no hay claves iguales, este par clave-valor es agregado al diccionario.\n",
    "print(ejemplo6)\n"
   ]
  },
  {
   "cell_type": "markdown",
   "metadata": {},
   "source": [
    "## Condiciones, bucles y funciones en Python"
   ]
  },
  {
   "cell_type": "markdown",
   "metadata": {},
   "source": [
    "- Una instrucción **condicional** permite realizar una acción u otra en base a una condición previa."
   ]
  },
  {
   "cell_type": "code",
   "execution_count": 63,
   "metadata": {},
   "outputs": [
    {
     "name": "stdout",
     "output_type": "stream",
     "text": [
      "El número es impar\n",
      "El número es par\n",
      "Es un numero negativo\n"
     ]
    }
   ],
   "source": [
    "numero = 57\n",
    "numero2 = 88\n",
    "numero3 = -4\n",
    "if(numero %2 == 0):\n",
    "    print(\"El número es par\")\n",
    "else:\n",
    "    print(\"El número es impar\")\n",
    "    \n",
    "\n",
    "print(\"El número es par\") if numero2 %2 == 0 else printnt(\"El número es impar\")\n",
    "\n",
    "if (numero3 > 0 and numero3 < 10):\n",
    "    print (\"Es un número positivo de un solo dígito.\")\n",
    "elif (numero3 > 10):\n",
    "    print(\"Es un numero positivo de mas de un digito\")\n",
    "else:\n",
    "    print(\"Es un numero negativo\")\n",
    "\n",
    "\n",
    "        "
   ]
  },
  {
   "cell_type": "markdown",
   "metadata": {},
   "source": [
    "- Un **bucle** es una instrucción iterativa que permite realizar un conjunto de acciones un número concreto de veces."
   ]
  },
  {
   "cell_type": "code",
   "execution_count": 75,
   "metadata": {},
   "outputs": [
    {
     "name": "stdout",
     "output_type": "stream",
     "text": [
      "Valores de 0 a 5 con el bucle FOR:\n",
      "* 0\n",
      "* 1\n",
      "* 2\n",
      "* 3\n",
      "* 4\n",
      "* 5\n",
      "Valores de 0 a 5 con el bucle WHILE:\n",
      "* 0\n",
      "* 1\n",
      "* 2\n",
      "* 3\n",
      "* 4\n",
      "Comienzo\n",
      "Hola. Ahora i vale 2 y su cuadrado 4\n",
      "Hola. Ahora i vale 3 y su cuadrado 9\n",
      "Hola. Ahora i vale 4 y su cuadrado 16\n",
      "Hola. Ahora i vale 5 y su cuadrado 25\n",
      "Final\n"
     ]
    }
   ],
   "source": [
    "print(\"Valores de 0 a 5 con el bucle FOR:\")\n",
    "for valor in range(6):                  \n",
    "    print(\"*\", str(valor))\n",
    "    \n",
    "    \n",
    "print(\"Valores de 0 a 5 con el bucle WHILE:\")\n",
    "valor = 0 \n",
    "while (valor < 5):\n",
    "    print(\"*\", str(valor))\n",
    "    valor = valor + 1\n",
    "    \n",
    "    \n",
    "print(\"Comienzo\")\n",
    "numeros = [2, 3, 4, 5]\n",
    "for i in numeros:\n",
    "    print(f\"Hola. Ahora i vale {i} y su cuadrado {i ** 2}\")\n",
    "print(\"Final\")"
   ]
  },
  {
   "cell_type": "markdown",
   "metadata": {},
   "source": [
    "-  Las **funciones** son una secuencia de sentencias que ejecuta una operación deseada, permiten encapsular un comportamiento común facilitando la reusabilidad e interpretabilidad del código."
   ]
  },
  {
   "cell_type": "code",
   "execution_count": 14,
   "metadata": {},
   "outputs": [
    {
     "name": "stdout",
     "output_type": "stream",
     "text": [
      "El número 12 es par\n",
      "El número 33 es impar\n",
      "200 ^^^ 101\n",
      "199 ^^ 699 &&&& 300 ^^ 900\n"
     ]
    }
   ],
   "source": [
    "def es_par(numero):\n",
    "    if(numero %2 == 0):\n",
    "        print(\"El número\", str(numero), \"es par\")\n",
    "    else:\n",
    "        print(\"El número\", str(numero), \"es impar\")\n",
    "\n",
    "es_par(12)\n",
    "es_par(33)\n",
    "\n",
    "\n",
    "def transforma_numero(numero):\n",
    "    if(numero %2 == 0):\n",
    "        return(numero*2)\n",
    "    else:\n",
    "        return(numero + 2)\n",
    "\n",
    "prueba1 = transforma_numero(100)\n",
    "prueba2 = transforma_numero(99)\n",
    "print(prueba1, \"^^^\", prueba2)\n",
    "\n",
    "def transforma_numero2(numero):\n",
    "    if(numero %2 == 0):\n",
    "        return(numero, numero * 3)\n",
    "    else:\n",
    "        return(numero, numero + 500)\n",
    "\n",
    "numero1, prueba3 = transforma_numero2(199)\n",
    "numero2, prueba4 = transforma_numero2(300)\n",
    "print(numero1, \"^^\", prueba3, \"&&&&\", numero2, \"^^\", prueba4)\n"
   ]
  },
  {
   "cell_type": "markdown",
   "metadata": {},
   "source": [
    "## Objetos en Python\n",
    "\n",
    "- Una **clase** permite encapsular de forma conjunta atributos(datos) y métodos(acciones), Cuando una clase se instancia, da lugar a un objeto.\n",
    "\n",
    "- Las **clases** y los **objetos** son considerados los principales bloques de desarrollo para Python.\n",
    "\n",
    "- Los métodos son como funciones. Sin embargo, la principal diferencia es que los métodos necesitan tener un argumento convenientemente llamado **self**, que se refiere al objeto del método que está siendo llamado.\n",
    "\n",
    "- Una forma más elegante de inicializar variables con sus valores predeterminados es el inicializador, es un método especial, con nombre **__ init __** (el método se considera especial y será tratado de forma especial, es por eso que tiene subrayados dobles al principio y al final)."
   ]
  },
  {
   "cell_type": "code",
   "execution_count": 88,
   "metadata": {},
   "outputs": [
    {
     "name": "stdout",
     "output_type": "stream",
     "text": [
      "David\n",
      "Instituto Superior \"Benito Juarez\"\n",
      "Jorge\n",
      "Universidad de la vida\n",
      "65\n",
      "31\n"
     ]
    }
   ],
   "source": [
    "class Persona:\n",
    "    nombre = ''\n",
    "    instituto = ''\n",
    "     \n",
    "    def imprimir_informacion(self, nombre, instituto):\n",
    "        print(self.nombre)\n",
    "        print(self.instituto)       \n",
    "david = Persona()\n",
    "david.nombre = 'David'\n",
    "david.instituto = 'Instituto Superior \"Benito Juarez\"'\n",
    "david.imprimir_informacion(david.nombre, david.instituto)\n",
    "\n",
    "\n",
    "class Person:\n",
    "    def __init__(self, n, s):\n",
    "        self.name = n\n",
    "        self.school = s\n",
    "     \n",
    "    def print_name(self):\n",
    "        print(self.name)\n",
    "         \n",
    "    def print_school(self):\n",
    "        print(self.school)    \n",
    "jorge = Person('Jorge', 'Universidad de la vida')\n",
    "jorge.print_name()\n",
    "jorge.print_school()\n",
    "\n",
    "\n",
    "class Rectangulo:\n",
    "    def __init__(self, x, y):\n",
    "        self.x = x\n",
    "        self.y = y\n",
    "    def area(self):\n",
    "        return self.x * self.y\n",
    "    def perimetro(self):\n",
    "        return self.x + 2 * self.y\n",
    "rectangulo1 = Rectangulo(5, 13)\n",
    "print(rectangulo1.area())\n",
    "print(rectangulo1.perimetro())"
   ]
  },
  {
   "cell_type": "markdown",
   "metadata": {},
   "source": [
    "##  Introducción a la visualización con Python"
   ]
  },
  {
   "cell_type": "markdown",
   "metadata": {},
   "source": [
    "**Matplotlib** es una biblioteca completa para crear visualizaciones estáticas, animadas e interactivas en Python.\n",
    "- Representa gráficamente sus datos en Figuras(es decir, ventanas, widgets de Jupyter, etc.) cada uno de los cuales puede contener uno o más **Axes**(es decir, un área donde los puntos se pueden especificar en términos de coordenadas xy). La forma más simple de crear una figura con ejes es usar **pyplot.subplots**. Luego podemos usar **Axes.plot** para dibujar algunos datos en los ejes:\n",
    "\n",
    "\n",
    "- Los ejes es el área en la que se grafican los datos con funciones tales como **plot() y scatter()** y que pueden tener etiquetas asociadas, pueden contener múltiples ejes.\n",
    "\n",
    "\n",
    "- Los datos de Machine Learning para graficar en matplotlib deberán estar estructurados bajo la librería de **NumPy**, te encontrarás manipulando con muchos datos almacenados en matrices, por lo que es normal que uses la librería de NumPy para procesarlos, podrás realizar operaciones sobre ellos, inspeccionar sus matrices y manipularlas para que estés trabajando con el subconjunto de datos adecuado\n"
   ]
  },
  {
   "cell_type": "code",
   "execution_count": 104,
   "metadata": {},
   "outputs": [
    {
     "data": {
      "image/png": "[encoded data removed]",
      "text/plain": [
       "<Figure size 432x288 with 1 Axes>"
      ]
     },
     "metadata": {
      "needs_background": "light"
     },
     "output_type": "display_data"
    }
   ],
   "source": [
    "import matplotlib.pyplot as plt                             # Importamos la libreria, pyplot es un módulo en el paquete matplotlib\n",
    "import numpy as np\n",
    " \n",
    "a = [1, 2, 3, 4]                                            # Preparamos algunos datos para graficarlos.\n",
    "b = [33, 15, 40, 26]\n",
    "plt.plot(a, b, color='red', linewidth=3, label='línea')    # Grafiquemos estos datos utilizando la librería\n",
    "plt.legend()                                                # Definimos el color de la línea, así como también el grosor de la misma.\n",
    "plt.show()"
   ]
  },
  {
   "cell_type": "code",
   "execution_count": 101,
   "metadata": {},
   "outputs": [
    {
     "data": {
      "text/plain": [
       "[<matplotlib.lines.Line2D at 0x1fb9da1f9c8>]"
      ]
     },
     "execution_count": 101,
     "metadata": {},
     "output_type": "execute_result"
    },
    {
     "data": {
      "image/png": "[encoded data removed]",
      "text/plain": [
       "<Figure size 432x288 with 1 Axes>"
      ]
     },
     "metadata": {
      "needs_background": "light"
     },
     "output_type": "display_data"
    }
   ],
   "source": [
    "fig, ax = plt.subplots()                                    # Crear una figura que contenga un solo eje.\n",
    "ax.plot([1, 2, 3, 4, 5], [1, 4, 2, 3, 2])                   # Traza algunos datos en los ejes. "
   ]
  },
  {
   "cell_type": "markdown",
   "metadata": {},
   "source": [
    "## Histogramas\n",
    "\n",
    "- Los histogramas se usan para mostrar una distribución, son útiles cuando tienes matrices o una lista muy larga."
   ]
  },
  {
   "cell_type": "code",
   "execution_count": 99,
   "metadata": {},
   "outputs": [
    {
     "data": {
      "text/plain": [
       "Text(0.5, 0, 'Eje X')"
      ]
     },
     "execution_count": 99,
     "metadata": {},
     "output_type": "execute_result"
    },
    {
     "data": {
      "image/png": "[encoded data removed]",
      "text/plain": [
       "<Figure size 432x288 with 1 Axes>"
      ]
     },
     "metadata": {
      "needs_background": "light"
     },
     "output_type": "display_data"
    }
   ],
   "source": [
    "a = [22,55,62,45,21,22,34,42,42,4,2,102,95,85,55,110,120,70,65,55,111,115,80,75,65,54,44,43,42,48]\n",
    "bins = [0,10,20,30,40,50,60,70,80,90,100]\n",
    "#Configurar las características del gráfico\n",
    "plt.hist(a, bins, histtype = 'bar', rwidth = 0.8, color = 'lightgreen')         # hist() se usa para trazar un histograma, bins contiene el entero o secuencia o cadena.\n",
    "plt.title('Histograma')                                                         # Configuramos el título\n",
    "plt.ylabel('Eje Y')                                                             # Configuramos la etiqueta del eje Y\n",
    "plt.xlabel('Eje X')                                                             # Configuramos la etiqueta del eje X"
   ]
  }
 ],
 "metadata": {
  "kernelspec": {
   "display_name": "Python 3",
   "language": "python",
   "name": "python3"
  },
  "language_info": {
   "codemirror_mode": {
    "name": "ipython",
    "version": 3
   },
   "file_extension": ".py",
   "mimetype": "text/x-python",
   "name": "python",
   "nbconvert_exporter": "python",
   "pygments_lexer": "ipython3",
   "version": "3.7.6"
  }
 },
 "nbformat": 4,
 "nbformat_minor": 4
}
